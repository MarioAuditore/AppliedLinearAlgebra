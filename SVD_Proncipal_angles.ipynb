{
  "nbformat": 4,
  "nbformat_minor": 0,
  "metadata": {
    "colab": {
      "name": "SVD Proncipal angles.ipynb",
      "provenance": [],
      "collapsed_sections": [],
      "authorship_tag": "ABX9TyMcGFm57xHe9u1Pg3rrspwg",
      "include_colab_link": true
    },
    "kernelspec": {
      "name": "python3",
      "display_name": "Python 3"
    },
    "language_info": {
      "name": "python"
    }
  },
  "cells": [
    {
      "cell_type": "markdown",
      "metadata": {
        "id": "view-in-github",
        "colab_type": "text"
      },
      "source": [
        "<a href=\"https://colab.research.google.com/github/MarioAuditore/AppliedLinearAlgebra/blob/main/SVD_Proncipal_angles.ipynb\" target=\"_parent\"><img src=\"https://colab.research.google.com/assets/colab-badge.svg\" alt=\"Open In Colab\"/></a>"
      ]
    },
    {
      "cell_type": "markdown",
      "metadata": {
        "id": "hMQZz7-4f_gK"
      },
      "source": [
        "Скачивание архива \\\n",
        "https://wiki.iphoster.net/wiki/Wget_-_как_выкачать_архив_c_Google_Drive_по_прямой_ссылке \\\n",
        "Датасет\\\n",
        "https://cmp.felk.cvut.cz/~spacelib/faces/faces94.html"
      ]
    },
    {
      "cell_type": "code",
      "metadata": {
        "colab": {
          "base_uri": "https://localhost:8080/"
        },
        "id": "SInvCJC0V9em",
        "outputId": "10ba20f6-4f0a-4771-b6e7-36d2438ad3db"
      },
      "source": [
        "!wget --load-cookies /tmp/cookies.txt \"https://docs.google.com/uc?export=download&confirm=$(wget --quiet --save-cookies /tmp/cookies.txt --keep-session-cookies --no-check-certificate 'https://docs.google.com/uc?export=download&id=1WDdtUYlZusuNq7hYOX8igN9JVCGitYjv' -O- | sed -rn 's/.*confirm=([0-9A-Za-z_]+).*/\\1\\n/p')&id=1WDdtUYlZusuNq7hYOX8igN9JVCGitYjv\" -O faces94.zip && rm -rf /tmp/cookies.txt"
      ],
      "execution_count": null,
      "outputs": [
        {
          "output_type": "stream",
          "name": "stdout",
          "text": [
            "--2021-12-15 16:33:36--  https://docs.google.com/uc?export=download&confirm=&id=1WDdtUYlZusuNq7hYOX8igN9JVCGitYjv\n",
            "Resolving docs.google.com (docs.google.com)... 142.250.141.113, 142.250.141.102, 142.250.141.139, ...\n",
            "Connecting to docs.google.com (docs.google.com)|142.250.141.113|:443... connected.\n",
            "HTTP request sent, awaiting response... 302 Moved Temporarily\n",
            "Location: https://doc-00-cc-docs.googleusercontent.com/docs/securesc/h2de0esui6670qtfs2mej6jl9kiu9gip/0ct7i3f6g9qoml3eh3b1pip0ucptb5rq/1639586025000/15165866794648613016/15788678805688232082Z/1WDdtUYlZusuNq7hYOX8igN9JVCGitYjv?e=download [following]\n",
            "--2021-12-15 16:33:47--  https://doc-00-cc-docs.googleusercontent.com/docs/securesc/h2de0esui6670qtfs2mej6jl9kiu9gip/0ct7i3f6g9qoml3eh3b1pip0ucptb5rq/1639586025000/15165866794648613016/15788678805688232082Z/1WDdtUYlZusuNq7hYOX8igN9JVCGitYjv?e=download\n",
            "Resolving doc-00-cc-docs.googleusercontent.com (doc-00-cc-docs.googleusercontent.com)... 74.125.137.132, 2607:f8b0:4023:c03::84\n",
            "Connecting to doc-00-cc-docs.googleusercontent.com (doc-00-cc-docs.googleusercontent.com)|74.125.137.132|:443... connected.\n",
            "HTTP request sent, awaiting response... 302 Found\n",
            "Location: https://docs.google.com/nonceSigner?nonce=chogqcmb4shpk&continue=https://doc-00-cc-docs.googleusercontent.com/docs/securesc/h2de0esui6670qtfs2mej6jl9kiu9gip/0ct7i3f6g9qoml3eh3b1pip0ucptb5rq/1639586025000/15165866794648613016/15788678805688232082Z/1WDdtUYlZusuNq7hYOX8igN9JVCGitYjv?e%3Ddownload&hash=nkrse6noessi8avgcbvkfkcrmdh9qnqv [following]\n",
            "--2021-12-15 16:33:47--  https://docs.google.com/nonceSigner?nonce=chogqcmb4shpk&continue=https://doc-00-cc-docs.googleusercontent.com/docs/securesc/h2de0esui6670qtfs2mej6jl9kiu9gip/0ct7i3f6g9qoml3eh3b1pip0ucptb5rq/1639586025000/15165866794648613016/15788678805688232082Z/1WDdtUYlZusuNq7hYOX8igN9JVCGitYjv?e%3Ddownload&hash=nkrse6noessi8avgcbvkfkcrmdh9qnqv\n",
            "Connecting to docs.google.com (docs.google.com)|142.250.141.113|:443... connected.\n",
            "HTTP request sent, awaiting response... 302 Found\n",
            "Location: https://doc-00-cc-docs.googleusercontent.com/docs/securesc/h2de0esui6670qtfs2mej6jl9kiu9gip/0ct7i3f6g9qoml3eh3b1pip0ucptb5rq/1639586025000/15165866794648613016/15788678805688232082Z/1WDdtUYlZusuNq7hYOX8igN9JVCGitYjv?e=download&nonce=chogqcmb4shpk&user=15788678805688232082Z&hash=qar7i8ra89pth5d87t3sjq4ufr9vcrvr [following]\n",
            "--2021-12-15 16:33:47--  https://doc-00-cc-docs.googleusercontent.com/docs/securesc/h2de0esui6670qtfs2mej6jl9kiu9gip/0ct7i3f6g9qoml3eh3b1pip0ucptb5rq/1639586025000/15165866794648613016/15788678805688232082Z/1WDdtUYlZusuNq7hYOX8igN9JVCGitYjv?e=download&nonce=chogqcmb4shpk&user=15788678805688232082Z&hash=qar7i8ra89pth5d87t3sjq4ufr9vcrvr\n",
            "Connecting to doc-00-cc-docs.googleusercontent.com (doc-00-cc-docs.googleusercontent.com)|74.125.137.132|:443... connected.\n",
            "HTTP request sent, awaiting response... 200 OK\n",
            "Length: 18845407 (18M) [application/x-zip-compressed]\n",
            "Saving to: ‘faces94.zip’\n",
            "\n",
            "faces94.zip         100%[===================>]  17.97M  48.1MB/s    in 0.4s    \n",
            "\n",
            "2021-12-15 16:33:48 (48.1 MB/s) - ‘faces94.zip’ saved [18845407/18845407]\n",
            "\n"
          ]
        }
      ]
    },
    {
      "cell_type": "code",
      "metadata": {
        "colab": {
          "base_uri": "https://localhost:8080/"
        },
        "id": "PMruAE8eW2tP",
        "outputId": "ce7900d7-8bdd-412e-b272-1fd3d10fb371"
      },
      "source": [
        "!unzip faces94.zip"
      ],
      "execution_count": null,
      "outputs": [
        {
          "output_type": "stream",
          "name": "stdout",
          "text": [
            "Archive:  faces94.zip\n",
            "replace faces94/female/9336923/9336923.1.jpg? [y]es, [n]o, [A]ll, [N]one, [r]ename: A\n",
            "  inflating: faces94/female/9336923/9336923.1.jpg  \n",
            "  inflating: faces94/female/9336923/9336923.10.jpg  \n",
            "  inflating: faces94/female/9336923/9336923.11.jpg  \n",
            "  inflating: faces94/female/9336923/9336923.12.jpg  \n",
            "  inflating: faces94/female/9336923/9336923.13.jpg  \n",
            "  inflating: faces94/female/9336923/9336923.14.jpg  \n",
            "  inflating: faces94/female/9336923/9336923.15.jpg  \n",
            "  inflating: faces94/female/9336923/9336923.16.jpg  \n",
            "  inflating: faces94/female/9336923/9336923.17.jpg  \n",
            "  inflating: faces94/female/9336923/9336923.18.jpg  \n",
            "  inflating: faces94/female/9336923/9336923.19.jpg  \n",
            "  inflating: faces94/female/9336923/9336923.2.jpg  \n",
            "  inflating: faces94/female/9336923/9336923.20.jpg  \n",
            "  inflating: faces94/female/9336923/9336923.3.jpg  \n",
            "  inflating: faces94/female/9336923/9336923.4.jpg  \n",
            "  inflating: faces94/female/9336923/9336923.5.jpg  \n",
            "  inflating: faces94/female/9336923/9336923.6.jpg  \n",
            "  inflating: faces94/female/9336923/9336923.7.jpg  \n",
            "  inflating: faces94/female/9336923/9336923.8.jpg  \n",
            "  inflating: faces94/female/9336923/9336923.9.jpg  \n",
            "  inflating: faces94/female/9338535/9338535.1.jpg  \n",
            "  inflating: faces94/female/9338535/9338535.10.jpg  \n",
            "  inflating: faces94/female/9338535/9338535.11.jpg  \n",
            "  inflating: faces94/female/9338535/9338535.12.jpg  \n",
            "  inflating: faces94/female/9338535/9338535.13.jpg  \n",
            "  inflating: faces94/female/9338535/9338535.14.jpg  \n",
            "  inflating: faces94/female/9338535/9338535.15.jpg  \n",
            "  inflating: faces94/female/9338535/9338535.16.jpg  \n",
            "  inflating: faces94/female/9338535/9338535.17.jpg  \n",
            "  inflating: faces94/female/9338535/9338535.18.jpg  \n",
            "  inflating: faces94/female/9338535/9338535.19.jpg  \n",
            "  inflating: faces94/female/9338535/9338535.2.jpg  \n",
            "  inflating: faces94/female/9338535/9338535.20.jpg  \n",
            "  inflating: faces94/female/9338535/9338535.3.jpg  \n",
            "  inflating: faces94/female/9338535/9338535.4.jpg  \n",
            "  inflating: faces94/female/9338535/9338535.5.jpg  \n",
            "  inflating: faces94/female/9338535/9338535.6.jpg  \n",
            "  inflating: faces94/female/9338535/9338535.7.jpg  \n",
            "  inflating: faces94/female/9338535/9338535.8.jpg  \n",
            "  inflating: faces94/female/9338535/9338535.9.jpg  \n",
            "  inflating: faces94/female/anpage/anpage.1.jpg  \n",
            "  inflating: faces94/female/anpage/anpage.10.jpg  \n",
            "  inflating: faces94/female/anpage/anpage.11.jpg  \n",
            "  inflating: faces94/female/anpage/anpage.12.jpg  \n",
            "  inflating: faces94/female/anpage/anpage.13.jpg  \n",
            "  inflating: faces94/female/anpage/anpage.14.jpg  \n",
            "  inflating: faces94/female/anpage/anpage.15.jpg  \n",
            "  inflating: faces94/female/anpage/anpage.16.jpg  \n",
            "  inflating: faces94/female/anpage/anpage.17.jpg  \n",
            "  inflating: faces94/female/anpage/anpage.18.jpg  \n",
            "  inflating: faces94/female/anpage/anpage.19.jpg  \n",
            "  inflating: faces94/female/anpage/anpage.2.jpg  \n",
            "  inflating: faces94/female/anpage/anpage.20.jpg  \n",
            "  inflating: faces94/female/anpage/anpage.3.jpg  \n",
            "  inflating: faces94/female/anpage/anpage.4.jpg  \n",
            "  inflating: faces94/female/anpage/anpage.5.jpg  \n",
            "  inflating: faces94/female/anpage/anpage.6.jpg  \n",
            "  inflating: faces94/female/anpage/anpage.7.jpg  \n",
            "  inflating: faces94/female/anpage/anpage.8.jpg  \n",
            "  inflating: faces94/female/anpage/anpage.9.jpg  \n",
            "  inflating: faces94/female/asamma/asamma.1.jpg  \n",
            "  inflating: faces94/female/asamma/asamma.10.jpg  \n",
            "  inflating: faces94/female/asamma/asamma.11.jpg  \n",
            "  inflating: faces94/female/asamma/asamma.12.jpg  \n",
            "  inflating: faces94/female/asamma/asamma.13.jpg  \n",
            "  inflating: faces94/female/asamma/asamma.14.jpg  \n",
            "  inflating: faces94/female/asamma/asamma.15.jpg  \n",
            "  inflating: faces94/female/asamma/asamma.16.jpg  \n",
            "  inflating: faces94/female/asamma/asamma.17.jpg  \n",
            "  inflating: faces94/female/asamma/asamma.18.jpg  \n",
            "  inflating: faces94/female/asamma/asamma.19.jpg  \n",
            "  inflating: faces94/female/asamma/asamma.2.jpg  \n",
            "  inflating: faces94/female/asamma/asamma.20.jpg  \n",
            "  inflating: faces94/female/asamma/asamma.3.jpg  \n",
            "  inflating: faces94/female/asamma/asamma.4.jpg  \n",
            "  inflating: faces94/female/asamma/asamma.5.jpg  \n",
            "  inflating: faces94/female/asamma/asamma.6.jpg  \n",
            "  inflating: faces94/female/asamma/asamma.7.jpg  \n",
            "  inflating: faces94/female/asamma/asamma.8.jpg  \n",
            "  inflating: faces94/female/asamma/asamma.9.jpg  \n",
            "  inflating: faces94/female/asewil/asewil.1.jpg  \n",
            "  inflating: faces94/female/asewil/asewil.10.jpg  \n",
            "  inflating: faces94/female/asewil/asewil.11.jpg  \n",
            "  inflating: faces94/female/asewil/asewil.12.jpg  \n",
            "  inflating: faces94/female/asewil/asewil.13.jpg  \n",
            "  inflating: faces94/female/asewil/asewil.14.jpg  \n",
            "  inflating: faces94/female/asewil/asewil.15.jpg  \n",
            "  inflating: faces94/female/asewil/asewil.16.jpg  \n",
            "  inflating: faces94/female/asewil/asewil.17.jpg  \n",
            "  inflating: faces94/female/asewil/asewil.18.jpg  \n",
            "  inflating: faces94/female/asewil/asewil.19.jpg  \n",
            "  inflating: faces94/female/asewil/asewil.2.jpg  \n",
            "  inflating: faces94/female/asewil/asewil.20.jpg  \n",
            "  inflating: faces94/female/asewil/asewil.3.jpg  \n",
            "  inflating: faces94/female/asewil/asewil.4.jpg  \n",
            "  inflating: faces94/female/asewil/asewil.5.jpg  \n",
            "  inflating: faces94/female/asewil/asewil.6.jpg  \n",
            "  inflating: faces94/female/asewil/asewil.7.jpg  \n",
            "  inflating: faces94/female/asewil/asewil.8.jpg  \n",
            "  inflating: faces94/female/asewil/asewil.9.jpg  \n",
            "  inflating: faces94/female/astefa/astefa.1.jpg  \n",
            "  inflating: faces94/female/astefa/astefa.10.jpg  \n",
            "  inflating: faces94/female/astefa/astefa.11.jpg  \n",
            "  inflating: faces94/female/astefa/astefa.12.jpg  \n",
            "  inflating: faces94/female/astefa/astefa.13.jpg  \n",
            "  inflating: faces94/female/astefa/astefa.14.jpg  \n",
            "  inflating: faces94/female/astefa/astefa.15.jpg  \n",
            "  inflating: faces94/female/astefa/astefa.16.jpg  \n",
            "  inflating: faces94/female/astefa/astefa.17.jpg  \n",
            "  inflating: faces94/female/astefa/astefa.18.jpg  \n",
            "  inflating: faces94/female/astefa/astefa.19.jpg  \n",
            "  inflating: faces94/female/astefa/astefa.2.jpg  \n",
            "  inflating: faces94/female/astefa/astefa.20.jpg  \n",
            "  inflating: faces94/female/astefa/astefa.3.jpg  \n",
            "  inflating: faces94/female/astefa/astefa.4.jpg  \n",
            "  inflating: faces94/female/astefa/astefa.5.jpg  \n",
            "  inflating: faces94/female/astefa/astefa.6.jpg  \n",
            "  inflating: faces94/female/astefa/astefa.7.jpg  \n",
            "  inflating: faces94/female/astefa/astefa.8.jpg  \n",
            "  inflating: faces94/female/astefa/astefa.9.jpg  \n",
            "  inflating: faces94/female/drbost/drbost.1.jpg  \n",
            "  inflating: faces94/female/drbost/drbost.10.jpg  \n",
            "  inflating: faces94/female/drbost/drbost.11.jpg  \n",
            "  inflating: faces94/female/drbost/drbost.12.jpg  \n",
            "  inflating: faces94/female/drbost/drbost.13.jpg  \n",
            "  inflating: faces94/female/drbost/drbost.14.jpg  \n",
            "  inflating: faces94/female/drbost/drbost.15.jpg  \n",
            "  inflating: faces94/female/drbost/drbost.16.jpg  \n",
            "  inflating: faces94/female/drbost/drbost.17.jpg  \n",
            "  inflating: faces94/female/drbost/drbost.18.jpg  \n",
            "  inflating: faces94/female/drbost/drbost.19.jpg  \n",
            "  inflating: faces94/female/drbost/drbost.2.jpg  \n",
            "  inflating: faces94/female/drbost/drbost.20.jpg  \n",
            "  inflating: faces94/female/drbost/drbost.3.jpg  \n",
            "  inflating: faces94/female/drbost/drbost.4.jpg  \n",
            "  inflating: faces94/female/drbost/drbost.5.jpg  \n",
            "  inflating: faces94/female/drbost/drbost.6.jpg  \n",
            "  inflating: faces94/female/drbost/drbost.7.jpg  \n",
            "  inflating: faces94/female/drbost/drbost.8.jpg  \n",
            "  inflating: faces94/female/drbost/drbost.9.jpg  \n",
            "  inflating: faces94/female/ekavaz/ekavaz.1.jpg  \n",
            "  inflating: faces94/female/ekavaz/ekavaz.10.jpg  \n",
            "  inflating: faces94/female/ekavaz/ekavaz.11.jpg  \n",
            "  inflating: faces94/female/ekavaz/ekavaz.12.jpg  \n",
            "  inflating: faces94/female/ekavaz/ekavaz.13.jpg  \n",
            "  inflating: faces94/female/ekavaz/ekavaz.14.jpg  \n",
            "  inflating: faces94/female/ekavaz/ekavaz.15.jpg  \n",
            "  inflating: faces94/female/ekavaz/ekavaz.16.jpg  \n",
            "  inflating: faces94/female/ekavaz/ekavaz.17.jpg  \n",
            "  inflating: faces94/female/ekavaz/ekavaz.18.jpg  \n",
            "  inflating: faces94/female/ekavaz/ekavaz.19.jpg  \n",
            "  inflating: faces94/female/ekavaz/ekavaz.2.jpg  \n",
            "  inflating: faces94/female/ekavaz/ekavaz.20.jpg  \n",
            "  inflating: faces94/female/ekavaz/ekavaz.3.jpg  \n",
            "  inflating: faces94/female/ekavaz/ekavaz.4.jpg  \n",
            "  inflating: faces94/female/ekavaz/ekavaz.5.jpg  \n",
            "  inflating: faces94/female/ekavaz/ekavaz.6.jpg  \n",
            "  inflating: faces94/female/ekavaz/ekavaz.7.jpg  \n",
            "  inflating: faces94/female/ekavaz/ekavaz.8.jpg  \n",
            "  inflating: faces94/female/ekavaz/ekavaz.9.jpg  \n",
            "  inflating: faces94/female/elduns/elduns.1.jpg  \n",
            "  inflating: faces94/female/elduns/elduns.10.jpg  \n",
            "  inflating: faces94/female/elduns/elduns.11.jpg  \n",
            "  inflating: faces94/female/elduns/elduns.12.jpg  \n",
            "  inflating: faces94/female/elduns/elduns.13.jpg  \n",
            "  inflating: faces94/female/elduns/elduns.14.jpg  \n",
            "  inflating: faces94/female/elduns/elduns.15.jpg  \n",
            "  inflating: faces94/female/elduns/elduns.16.jpg  \n",
            "  inflating: faces94/female/elduns/elduns.17.jpg  \n",
            "  inflating: faces94/female/elduns/elduns.18.jpg  \n",
            "  inflating: faces94/female/elduns/elduns.19.jpg  \n",
            "  inflating: faces94/female/elduns/elduns.2.jpg  \n",
            "  inflating: faces94/female/elduns/elduns.20.jpg  \n",
            "  inflating: faces94/female/elduns/elduns.3.jpg  \n",
            "  inflating: faces94/female/elduns/elduns.4.jpg  \n",
            "  inflating: faces94/female/elduns/elduns.5.jpg  \n",
            "  inflating: faces94/female/elduns/elduns.6.jpg  \n",
            "  inflating: faces94/female/elduns/elduns.7.jpg  \n",
            "  inflating: faces94/female/elduns/elduns.8.jpg  \n",
            "  inflating: faces94/female/elduns/elduns.9.jpg  \n",
            "  inflating: faces94/female/gotone/9336923.gif  \n",
            "  inflating: faces94/female/gotone/9336923.jpg  \n",
            "  inflating: faces94/female/gotone/9338535.gif  \n",
            "  inflating: faces94/female/gotone/9338535.jpg  \n",
            "  inflating: faces94/female/gotone/anpage.gif  \n",
            "  inflating: faces94/female/gotone/anpage.jpg  \n",
            "  inflating: faces94/female/gotone/asamma.gif  \n",
            "  inflating: faces94/female/gotone/asamma.jpg  \n",
            "  inflating: faces94/female/gotone/asewil.gif  \n",
            "  inflating: faces94/female/gotone/asewil.jpg  \n",
            "error: invalid zip file with overlapped components (possible zip bomb)\n"
          ]
        }
      ]
    },
    {
      "cell_type": "code",
      "metadata": {
        "id": "mfMPULjSXo0h"
      },
      "source": [
        "import glob\n",
        "from PIL import Image\n",
        "import numpy as np\n",
        "from matplotlib import pyplot as plt\n",
        "from scipy.linalg import svdvals\n",
        "import os\n",
        "%matplotlib inline"
      ],
      "execution_count": null,
      "outputs": []
    },
    {
      "cell_type": "markdown",
      "source": [
        "# Считаем изображения"
      ],
      "metadata": {
        "id": "Ykjp65wyqk-b"
      }
    },
    {
      "cell_type": "code",
      "metadata": {
        "id": "eyLCIKeeXejZ"
      },
      "source": [
        "def create_image_set(dir):\n",
        "  image_set =[]\n",
        "\n",
        "  # for file in glob.glob(dir + \"/*.jpg\"):\n",
        "  for file in glob.glob(dir +  \"/*\"):\n",
        "    im = Image.open(file)\n",
        "    im = im.resize((32, 32))\n",
        "    image_set.append(im.convert('L'))\n",
        "  plt.imshow(np.asarray(im.convert('L')), interpolation='nearest')\n",
        "  plt.show()\n",
        "  return image_set"
      ],
      "execution_count": null,
      "outputs": []
    },
    {
      "cell_type": "code",
      "source": [
        "subfolders = [ f.path for f in os.scandir('/content/faces94/female') if f.is_dir() ]\n",
        "subfolders"
      ],
      "metadata": {
        "colab": {
          "base_uri": "https://localhost:8080/"
        },
        "id": "zvyv18SHpLov",
        "outputId": "18b2b724-837e-434c-98b5-4923451c18c3"
      },
      "execution_count": null,
      "outputs": [
        {
          "output_type": "execute_result",
          "data": {
            "text/plain": [
              "['/content/faces94/female/elduns',\n",
              " '/content/faces94/female/asewil',\n",
              " '/content/faces94/female/9338535',\n",
              " '/content/faces94/female/ekavaz',\n",
              " '/content/faces94/female/anpage',\n",
              " '/content/faces94/female/drbost',\n",
              " '/content/faces94/female/gotone',\n",
              " '/content/faces94/female/astefa',\n",
              " '/content/faces94/female/asamma',\n",
              " '/content/faces94/female/9336923']"
            ]
          },
          "metadata": {},
          "execution_count": 5
        }
      ]
    },
    {
      "cell_type": "code",
      "source": [
        "all_images = []\n",
        "for f in os.scandir('/content/faces94/female'):\n",
        "  if (f.is_dir()) and (f.path != '/content/faces94/female/gotone'):\n",
        "    all_images.append(create_image_set(f.path))\n",
        "\n",
        "test_all_im_set = create_image_set('/content/faces94/female/gotone')"
      ],
      "metadata": {
        "colab": {
          "base_uri": "https://localhost:8080/",
          "height": 1000
        },
        "id": "5rUtHyc0mffK",
        "outputId": "c328b512-e5c5-40a5-be45-3eb770be4d20"
      },
      "execution_count": null,
      "outputs": [
        {
          "output_type": "display_data",
          "data": {
            "image/png": "[encoded data removed]",
            "text/plain": [
              "<Figure size 432x288 with 1 Axes>"
            ]
          },
          "metadata": {
            "needs_background": "light"
          }
        },
        {
          "output_type": "display_data",
          "data": {
            "image/png": "[encoded data removed]",
            "text/plain": [
              "<Figure size 432x288 with 1 Axes>"
            ]
          },
          "metadata": {
            "needs_background": "light"
          }
        },
        {
          "output_type": "display_data",
          "data": {
            "image/png": "[encoded data removed]",
            "text/plain": [
              "<Figure size 432x288 with 1 Axes>"
            ]
          },
          "metadata": {
            "needs_background": "light"
          }
        },
        {
          "output_type": "display_data",
          "data": {
            "image/png": "[encoded data removed]",
            "text/plain": [
              "<Figure size 432x288 with 1 Axes>"
            ]
          },
          "metadata": {
            "needs_background": "light"
          }
        },
        {
          "output_type": "display_data",
          "data": {
            "image/png": "[encoded data removed]",
            "text/plain": [
              "<Figure size 432x288 with 1 Axes>"
            ]
          },
          "metadata": {
            "needs_background": "light"
          }
        },
        {
          "output_type": "display_data",
          "data": {
            "image/png": "[encoded data removed]",
            "text/plain": [
              "<Figure size 432x288 with 1 Axes>"
            ]
          },
          "metadata": {
            "needs_background": "light"
          }
        },
        {
          "output_type": "display_data",
          "data": {
            "image/png": "[encoded data removed]",
            "text/plain": [
              "<Figure size 432x288 with 1 Axes>"
            ]
          },
          "metadata": {
            "needs_background": "light"
          }
        },
        {
          "output_type": "display_data",
          "data": {
            "image/png": "[encoded data removed]",
            "text/plain": [
              "<Figure size 432x288 with 1 Axes>"
            ]
          },
          "metadata": {
            "needs_background": "light"
          }
        },
        {
          "output_type": "display_data",
          "data": {
            "image/png": "[encoded data removed]",
            "text/plain": [
              "<Figure size 432x288 with 1 Axes>"
            ]
          },
          "metadata": {
            "needs_background": "light"
          }
        },
        {
          "output_type": "display_data",
          "data": {
            "image/png": "[encoded data removed]",
            "text/plain": [
              "<Figure size 432x288 with 1 Axes>"
            ]
          },
          "metadata": {
            "needs_background": "light"
          }
        }
      ]
    },
    {
      "cell_type": "markdown",
      "source": [
        "Размер картинок"
      ],
      "metadata": {
        "id": "58bp6vniuAA6"
      }
    },
    {
      "cell_type": "code",
      "source": [
        "np.asarray(all_images[0][0]).shape"
      ],
      "metadata": {
        "colab": {
          "base_uri": "https://localhost:8080/"
        },
        "id": "YlgsFECHt1Hp",
        "outputId": "b47c6d15-dfe3-4794-b437-243062a57fda"
      },
      "execution_count": null,
      "outputs": [
        {
          "output_type": "execute_result",
          "data": {
            "text/plain": [
              "(32, 32)"
            ]
          },
          "metadata": {},
          "execution_count": 7
        }
      ]
    },
    {
      "cell_type": "markdown",
      "source": [
        "# Теперь обработка"
      ],
      "metadata": {
        "id": "cP0nsx7iqpzK"
      }
    },
    {
      "cell_type": "code",
      "source": [
        "from scipy.ndimage import gaussian_filter\n",
        "from torchvision import transforms\n",
        "\n",
        "\n",
        "def transformation(img_set, sigma = 1):\n",
        "  im_mtx_1 = []\n",
        "  im_mtx_1_torch = []\n",
        "  im_mtx_2 = []\n",
        "  im_mtx_2_torch = []\n",
        "\n",
        "  for im in img_set:\n",
        "    # Создаем оригинал\n",
        "    matrix = np.asarray(im)\n",
        "    im_mtx_1.append(matrix.flatten())\n",
        "\n",
        "    # Преобразованный оригинал\n",
        "    transform = transforms.Compose([transforms.RandomHorizontalFlip()])\n",
        "    im_mtx_1_torch.append(np.asarray(transform(im)).flatten())\n",
        "\n",
        "    # Обработанный Гауссом\n",
        "    matrix_gauss = gaussian_filter(matrix, sigma=sigma)\n",
        "    im_mtx_2.append(matrix_gauss.flatten())\n",
        "\n",
        "    # Преобразованный обработанный Гауссом\n",
        "    matrix_gauss_torch = gaussian_filter(np.asarray(transform(im)), sigma=sigma)\n",
        "    im_mtx_2_torch.append(matrix_gauss_torch.flatten())\n",
        "\n",
        "  return im_mtx_1, im_mtx_1_torch, im_mtx_2, im_mtx_2_torch\n"
      ],
      "metadata": {
        "id": "0TfLwzpGqpf7"
      },
      "execution_count": null,
      "outputs": []
    },
    {
      "cell_type": "code",
      "source": [
        "originals = []\n",
        "originals_torch = []\n",
        "\n",
        "gaussian = []\n",
        "gaussian_torch = []\n",
        "\n",
        "for im_set in all_images:\n",
        "   orig, orig_torch, gauss, gauss_torch = transformation(im_set)\n",
        "\n",
        "   originals.append(np.transpose(orig))\n",
        "   originals_torch.append(np.transpose(orig_torch))\n",
        "\n",
        "   gaussian.append(np.transpose(gauss))\n",
        "   gaussian_torch.append(np.transpose(gauss_torch))\n",
        "  \n",
        "print('Amount of sets ', len(originals))"
      ],
      "metadata": {
        "colab": {
          "base_uri": "https://localhost:8080/"
        },
        "id": "JZyvrND2xEDP",
        "outputId": "18707550-86fd-425f-9d7f-c79f4b319831"
      },
      "execution_count": null,
      "outputs": [
        {
          "output_type": "stream",
          "name": "stdout",
          "text": [
            "Amount of sets  9\n"
          ]
        }
      ]
    },
    {
      "cell_type": "code",
      "source": [
        "np.array(originals[0]).shape"
      ],
      "metadata": {
        "colab": {
          "base_uri": "https://localhost:8080/"
        },
        "id": "fQyiC30yx2dL",
        "outputId": "f5d07d7b-534d-43ea-fc76-443103776c2d"
      },
      "execution_count": null,
      "outputs": [
        {
          "output_type": "execute_result",
          "data": {
            "text/plain": [
              "(1024, 20)"
            ]
          },
          "metadata": {},
          "execution_count": 10
        }
      ]
    },
    {
      "cell_type": "code",
      "source": [
        "from scipy.linalg import fractional_matrix_power\n",
        "from sklearn.metrics.pairwise import rbf_kernel, polynomial_kernel\n",
        "\n",
        "A = originals[0]\n",
        "M =  rbf_kernel(np.transpose(originals[0]), np.transpose(originals[0]))\n",
        "Delta, Q = np.linalg.eig(M)\n",
        "Delta = np.diag(Delta)\n",
        "U = A @ Q @ fractional_matrix_power(Delta, -0.5).real\n",
        "print(U)"
      ],
      "metadata": {
        "colab": {
          "base_uri": "https://localhost:8080/"
        },
        "id": "4sILgvaZN7dZ",
        "outputId": "f80b8b69-600a-431c-f471-a01a01dca852"
      },
      "execution_count": null,
      "outputs": [
        {
          "output_type": "stream",
          "name": "stdout",
          "text": [
            "[[ 1.33000000e+02  1.86864218e+02 -1.23684901e+00 ... -1.99029752e+02\n",
            "  -6.33003301e+01 -1.12100423e+02]\n",
            " [ 1.32000000e+02  1.84741545e+02 -5.31178213e-01 ... -1.97853752e+02\n",
            "  -6.48517609e+01 -1.11107469e+02]\n",
            " [ 1.32000000e+02  1.86155756e+02  8.83032657e-01 ... -1.98118197e+02\n",
            "  -6.66935396e+01 -1.11089190e+02]\n",
            " ...\n",
            " [ 2.50000000e+01  3.32670856e+01  7.38190058e-01 ... -4.26200539e+01\n",
            "  -8.84098333e+00 -1.66056485e+01]\n",
            " [ 2.20000000e+01  3.39725900e+01  2.98939843e-02 ... -3.63162909e+01\n",
            "  -1.17493972e+01 -1.42275215e+01]\n",
            " [ 1.90000000e+01  2.76044876e+01  7.32776584e-01 ... -3.14133391e+01\n",
            "  -1.32610501e+01 -1.91479769e+01]]\n"
          ]
        }
      ]
    },
    {
      "cell_type": "markdown",
      "source": [
        "# Создаем признаковое пространство и считаем углы"
      ],
      "metadata": {
        "id": "_YT4gudjyk2y"
      }
    },
    {
      "cell_type": "code",
      "source": [
        "originals[0].shape"
      ],
      "metadata": {
        "colab": {
          "base_uri": "https://localhost:8080/"
        },
        "id": "enZXm5dsQRfF",
        "outputId": "61dde792-6577-4cf4-a666-1aba4d1249b1"
      },
      "execution_count": null,
      "outputs": [
        {
          "output_type": "execute_result",
          "data": {
            "text/plain": [
              "(1024, 20)"
            ]
          },
          "metadata": {},
          "execution_count": 12
        }
      ]
    },
    {
      "cell_type": "code",
      "source": [
        "from scipy.linalg import fractional_matrix_power\n",
        "from sklearn.metrics.pairwise import rbf_kernel, polynomial_kernel\n",
        "\n",
        "def is_pos_def(x):\n",
        "    return np.all(np.linalg.eigvals(x) > 0)\n",
        "\n",
        "\n",
        "M =  rbf_kernel(np.transpose(originals[1]), np.transpose(originals[1]))\n",
        "is_pos_def(M)"
      ],
      "metadata": {
        "colab": {
          "base_uri": "https://localhost:8080/"
        },
        "id": "vqtpPU2WN7AZ",
        "outputId": "c9323f57-b10d-4694-95e7-80d604a56699"
      },
      "execution_count": null,
      "outputs": [
        {
          "output_type": "execute_result",
          "data": {
            "text/plain": [
              "True"
            ]
          },
          "metadata": {},
          "execution_count": 13
        }
      ]
    },
    {
      "cell_type": "code",
      "metadata": {
        "id": "Q50_h-g_vV7x"
      },
      "source": [
        "from scipy.linalg import fractional_matrix_power\n",
        "from sklearn.metrics.pairwise import rbf_kernel, polynomial_kernel\n",
        "\n",
        "\n",
        "\n",
        "def principal_angle_rbf(set_1, set_2, sigma, r = 20):\n",
        "  # Признаковые пространство 1\n",
        "  M_1 = rbf_kernel(np.transpose(set_1), gamma = sigma**(-2))\n",
        "  Delta_1, Q_1 = np.linalg.eig(M_1)\n",
        "  Q_1 = Q_1[:, :r]\n",
        "  Delta_1 = np.diag(Delta_1)[:r, :r]\n",
        "  alpha_1 = Q_1 @ fractional_matrix_power(Delta_1, -0.5).real\n",
        "\n",
        "  # Признаковые пространство 2\n",
        "  M_2 = rbf_kernel(np.transpose(set_2), gamma = sigma**(-2))\n",
        "  Delta_2, Q_2 = np.linalg.eig(M_2)\n",
        "  Q_2 = Q_2[:, :r]\n",
        "  Delta_2 = np.diag(Delta_2)[ :r, :r]\n",
        "  alpha_2 = Q_2 @ fractional_matrix_power(Delta_2, -0.5).real\n",
        "\n",
        "  # Нахождение расстояния\n",
        "  D = np.transpose(alpha_1) @ rbf_kernel(np.transpose(set_1), np.transpose(set_2), gamma = sigma**(-2)) @ alpha_2\n",
        "  return max(svdvals(D))\n",
        "\n",
        "\n",
        "def principal_angle_polynomial(set_1, set_2, degree = 3, r = 20):\n",
        "  # Признаковые пространство 1\n",
        "  M_1 = polynomial_kernel(np.transpose(set_1), degree = degree)\n",
        "  Delta_1, Q_1 = np.linalg.eig(M_1)\n",
        "  Q_1 = Q_1[:, :r]\n",
        "  Delta_1 = np.diag(Delta_1)[:r, :r]\n",
        "  alpha_1 = Q_1 @ fractional_matrix_power(Delta_1, -0.5).real\n",
        "\n",
        "  # Признаковые пространство 2\n",
        "  M_2 = polynomial_kernel(np.transpose(set_2), degree = degree)\n",
        "  Delta_2, Q_2 = np.linalg.eig(M_2)\n",
        "  Q_2 = Q_2[:, :r]\n",
        "  Delta_2 = np.diag(Delta_2)[ :r, :r]\n",
        "  alpha_2 = Q_2 @ fractional_matrix_power(Delta_2, -0.5).real\n",
        "\n",
        "\n",
        "  # Нахождение расстояния\n",
        "  D = np.transpose(alpha_1) @ polynomial_kernel(np.transpose(set_1), np.transpose(set_2), degree = degree) @ alpha_2\n",
        "  return max(svdvals(D))"
      ],
      "execution_count": null,
      "outputs": []
    },
    {
      "cell_type": "markdown",
      "source": [
        "Рассмотрим расстояния между первым и всеми остальными преобразованными"
      ],
      "metadata": {
        "id": "Lpd4z0fG0kUq"
      }
    },
    {
      "cell_type": "code",
      "source": [
        "originals_torch[8].shape"
      ],
      "metadata": {
        "colab": {
          "base_uri": "https://localhost:8080/"
        },
        "id": "uVTjD26B6QJs",
        "outputId": "6a2a99ca-5db0-4a44-8b8c-751e6ca3035d"
      },
      "execution_count": null,
      "outputs": [
        {
          "output_type": "execute_result",
          "data": {
            "text/plain": [
              "(1024, 20)"
            ]
          },
          "metadata": {},
          "execution_count": 15
        }
      ]
    },
    {
      "cell_type": "code",
      "source": [
        "originals[2].shape"
      ],
      "metadata": {
        "colab": {
          "base_uri": "https://localhost:8080/"
        },
        "id": "-2VH_LBbCc_n",
        "outputId": "797afd20-928c-4ff0-a6cd-a7a8b11e88ac"
      },
      "execution_count": null,
      "outputs": [
        {
          "output_type": "execute_result",
          "data": {
            "text/plain": [
              "(1024, 20)"
            ]
          },
          "metadata": {},
          "execution_count": 16
        }
      ]
    },
    {
      "cell_type": "code",
      "metadata": {
        "id": "NBEch3JFxMVV",
        "colab": {
          "base_uri": "https://localhost:8080/"
        },
        "outputId": "67a329b8-eb91-47bb-e34c-8456cdf00eac"
      },
      "source": [
        "for sample in originals_torch:\n",
        "  print('distance: ', principal_angle_rbf(originals[0], sample, sigma=170))"
      ],
      "execution_count": null,
      "outputs": [
        {
          "output_type": "stream",
          "name": "stdout",
          "text": [
            "distance:  1.00000813630172\n",
            "distance:  1.861206494840833e-66\n",
            "distance:  1.2491170284593135e-63\n",
            "distance:  4.430054578414911e-40\n",
            "distance:  8.340127555939119e-22\n",
            "distance:  7.2228803192398925e-68\n",
            "distance:  2.882025103009801e-39\n",
            "distance:  9.159870804710538e-39\n",
            "distance:  4.1642761362911865e-68\n"
          ]
        }
      ]
    },
    {
      "cell_type": "code",
      "source": [
        "for i in range(len(originals)): \n",
        "  score = [principal_angle_polynomial(originals[i], another, degree=2) for another in originals]\n",
        "  closest = np.argmax(score)\n",
        "  print(f'Closest to {i} is {closest} with score: {score[closest]}')"
      ],
      "metadata": {
        "colab": {
          "base_uri": "https://localhost:8080/"
        },
        "id": "tscfUooNDBmK",
        "outputId": "d4bed376-714c-447e-e57e-2cbcbcae736e"
      },
      "execution_count": null,
      "outputs": [
        {
          "output_type": "stream",
          "name": "stdout",
          "text": [
            "Closest to 0 is 0 with score: 1.000000000002581\n",
            "Closest to 1 is 1 with score: 1.0000000000055327\n",
            "Closest to 2 is 2 with score: 1.0000000000030187\n",
            "Closest to 3 is 3 with score: 1.00000000000206\n",
            "Closest to 4 is 4 with score: 1.0000000000266789\n",
            "Closest to 5 is 5 with score: 1.0000000000027158\n",
            "Closest to 6 is 6 with score: 1.0000000000208984\n",
            "Closest to 7 is 7 with score: 1.0000000000209686\n",
            "Closest to 8 is 8 with score: 1.0000000000047504\n"
          ]
        }
      ]
    },
    {
      "cell_type": "code",
      "source": [
        "for i in range(len(originals)): \n",
        "  score = [principal_angle_rbf(originals[i], another, sigma=170, r = 20) for another in originals_torch]\n",
        "  closest = np.argmax(score)\n",
        "  print(f'Closest to {i} is {closest} with score: {score[closest]}')"
      ],
      "metadata": {
        "colab": {
          "base_uri": "https://localhost:8080/"
        },
        "id": "q5IjIlIV1P8z",
        "outputId": "0b81047d-6b9f-4dbe-f420-68906e3601d3"
      },
      "execution_count": null,
      "outputs": [
        {
          "output_type": "stream",
          "name": "stdout",
          "text": [
            "Closest to 0 is 0 with score: 1.00000813630172\n",
            "Closest to 1 is 1 with score: 1.000000000000002\n",
            "Closest to 2 is 2 with score: 1.000000000000048\n",
            "Closest to 3 is 3 with score: 1.024620972028003\n",
            "Closest to 4 is 4 with score: 1.000000000000002\n",
            "Closest to 5 is 5 with score: 1.0000000000000013\n",
            "Closest to 6 is 6 with score: 1.0000000000003701\n",
            "Closest to 7 is 7 with score: 1.0000000000000093\n",
            "Closest to 8 is 8 with score: 1.0000000000000027\n"
          ]
        }
      ]
    },
    {
      "cell_type": "markdown",
      "source": [
        "Теперь внутри одного множества"
      ],
      "metadata": {
        "id": "m9b4vM3308Af"
      }
    },
    {
      "cell_type": "code",
      "source": [
        "for i in range(len(originals)):\n",
        "  score = [principal_angle_rbf(originals[i], another, sigma=10, r = 20) for another in originals]\n",
        "  closest = np.argmax(score)\n",
        "  print(f'Closest to {i} is {closest} with score: {score[closest]}')"
      ],
      "metadata": {
        "id": "HES22oku2GDM",
        "colab": {
          "base_uri": "https://localhost:8080/"
        },
        "outputId": "7f6a657c-8b0a-4ac1-d609-0dd019f8c070"
      },
      "execution_count": null,
      "outputs": [
        {
          "output_type": "stream",
          "name": "stdout",
          "text": [
            "Closest to 0 is 0 with score: 1.0\n",
            "Closest to 1 is 1 with score: 2.1598890792854384\n",
            "Closest to 2 is 2 with score: 1.9166656719793778\n",
            "Closest to 3 is 3 with score: 1.0000000000000002\n",
            "Closest to 4 is 4 with score: 1.338971213608364\n",
            "Closest to 5 is 5 with score: 1.4955389650514854\n",
            "Closest to 6 is 6 with score: 1.6559578485096238\n",
            "Closest to 7 is 7 with score: 1.0000000000000002\n",
            "Closest to 8 is 8 with score: 1.4472135954999812\n"
          ]
        }
      ]
    },
    {
      "cell_type": "code",
      "metadata": {
        "id": "kgfWUKMvyZDj",
        "colab": {
          "base_uri": "https://localhost:8080/"
        },
        "outputId": "62ed73ed-d08d-47ef-f819-b28ff28b34eb"
      },
      "source": [
        "# Можно брать сигма поменьше для Гауссовского размытия если сравнивать внутри того же набора\n",
        "for i in range(len(gaussian)):\n",
        "  score = [principal_angle_rbf(gaussian[i], another, sigma=10, r = 20) for another in gaussian]\n",
        "  closest = np.argmax(score)\n",
        "  print(f'Closest to {i} is {closest} with score: {score[closest]}')"
      ],
      "execution_count": null,
      "outputs": [
        {
          "output_type": "stream",
          "name": "stdout",
          "text": [
            "Closest to 0 is 0 with score: 1.9774562069038781\n",
            "Closest to 1 is 1 with score: 1.7072069985127043\n",
            "Closest to 2 is 2 with score: 2.371604226301452\n",
            "Closest to 3 is 3 with score: 2.2604199188850185\n",
            "Closest to 4 is 4 with score: 2.087489514940124\n",
            "Closest to 5 is 5 with score: 2.6540051951228585\n",
            "Closest to 6 is 6 with score: 1.6958640218636756\n",
            "Closest to 7 is 7 with score: 1.9581021268913852\n",
            "Closest to 8 is 8 with score: 1.950561640393792\n"
          ]
        }
      ]
    },
    {
      "cell_type": "code",
      "source": [
        "# А вот с разными уже немного другой эффект, если брать минимальное сингулярное значение. При максимальном все гладко\n",
        "for i in range(len(gaussian)):\n",
        "  score = [principal_angle_rbf(gaussian[i], another, sigma=10, r = 20) for another in gaussian_torch]\n",
        "  closest = np.argmax(score)\n",
        "  print(f'Closest to {i} is {closest} with score: {score[closest]}')"
      ],
      "metadata": {
        "colab": {
          "base_uri": "https://localhost:8080/"
        },
        "id": "wwZTA63NWj23",
        "outputId": "627a32d9-b173-48ef-fa97-e55ec1ce73f7"
      },
      "execution_count": null,
      "outputs": [
        {
          "output_type": "stream",
          "name": "stdout",
          "text": [
            "Closest to 0 is 0 with score: 1.3634362652434575\n",
            "Closest to 1 is 1 with score: 1.2099405086492456\n",
            "Closest to 2 is 2 with score: 1.3774105644815213\n",
            "Closest to 3 is 3 with score: 1.1148052631584133\n",
            "Closest to 4 is 4 with score: 1.4516379321518205\n",
            "Closest to 5 is 5 with score: 1.3196674158700274\n",
            "Closest to 6 is 6 with score: 1.1961877309713258\n",
            "Closest to 7 is 7 with score: 1.3763101558351298\n",
            "Closest to 8 is 8 with score: 1.8524798935166955\n"
          ]
        }
      ]
    },
    {
      "cell_type": "code",
      "source": [
        "for i in range(len(gaussian)):\n",
        "  score = [principal_angle_polynomial(gaussian[i], another, degree=2) for another in gaussian]\n",
        "  closest = np.argmax(score)\n",
        "  print(f'Closest to {i} is {closest} with score: {score[closest]}')"
      ],
      "metadata": {
        "id": "VkHRCOdK3lOD",
        "colab": {
          "base_uri": "https://localhost:8080/"
        },
        "outputId": "70d20b53-74e5-4215-affa-ea8a67cc35a1"
      },
      "execution_count": null,
      "outputs": [
        {
          "output_type": "stream",
          "name": "stdout",
          "text": [
            "Closest to 0 is 0 with score: 1.0000000000059117\n",
            "Closest to 1 is 1 with score: 1.0000000000072455\n",
            "Closest to 2 is 2 with score: 1.0000000000117297\n",
            "Closest to 3 is 3 with score: 1.0000000000102223\n",
            "Closest to 4 is 4 with score: 1.0000000000465201\n",
            "Closest to 5 is 5 with score: 1.0000000000162572\n",
            "Closest to 6 is 6 with score: 1.0000000000478406\n",
            "Closest to 7 is 7 with score: 1.00000000000858\n",
            "Closest to 8 is 8 with score: 1.000000000046954\n"
          ]
        }
      ]
    },
    {
      "cell_type": "code",
      "source": [
        "for i in range(len(gaussian)):\n",
        "  score = [principal_angle_polynomial(gaussian[i], another, degree=3) for another in gaussian_torch]\n",
        "  closest = np.argmax(score)\n",
        "  print(f'Closest to {i} is {closest} with score: {score[closest]}')"
      ],
      "metadata": {
        "colab": {
          "base_uri": "https://localhost:8080/"
        },
        "id": "LMEEcpobXD1N",
        "outputId": "985756a7-09ed-4e0c-8007-57f187849d48"
      },
      "execution_count": null,
      "outputs": [
        {
          "output_type": "stream",
          "name": "stdout",
          "text": [
            "Closest to 0 is 0 with score: 1.0000000000005067\n",
            "Closest to 1 is 1 with score: 1.0000000000013882\n",
            "Closest to 2 is 2 with score: 1.000000000003028\n",
            "Closest to 3 is 3 with score: 1.0000000000003189\n",
            "Closest to 4 is 4 with score: 1.000000000002546\n",
            "Closest to 5 is 5 with score: 1.0000000000019456\n",
            "Closest to 6 is 6 with score: 1.0000000000061073\n",
            "Closest to 7 is 7 with score: 1.000000000004249\n",
            "Closest to 8 is 8 with score: 1.0000000000030238\n"
          ]
        }
      ]
    },
    {
      "cell_type": "code",
      "source": [
        ""
      ],
      "metadata": {
        "id": "jn7b1vcpXHFD"
      },
      "execution_count": null,
      "outputs": []
    }
  ]
}